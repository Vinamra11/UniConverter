{
  "nbformat": 4,
  "nbformat_minor": 0,
  "metadata": {
    "colab": {
      "name": "UnicodeToBhaiji.ipynb",
      "provenance": [],
      "collapsed_sections": [],
      "authorship_tag": "ABX9TyNzexwYtH8QX2+fh1wj2Ol5",
      "include_colab_link": true
    },
    "kernelspec": {
      "name": "python3",
      "display_name": "Python 3"
    },
    "language_info": {
      "name": "python"
    }
  },
  "cells": [
    {
      "cell_type": "markdown",
      "metadata": {
        "id": "view-in-github",
        "colab_type": "text"
      },
      "source": [
        "<a href=\"https://colab.research.google.com/github/Vinamra11/UniConverter/blob/main/UnicodeToBhaiji.ipynb\" target=\"_parent\"><img src=\"https://colab.research.google.com/assets/colab-badge.svg\" alt=\"Open In Colab\"/></a>"
      ]
    },
    {
      "cell_type": "code",
      "metadata": {
        "id": "qKmvkLYyLlM6"
      },
      "source": [
        ""
      ],
      "execution_count": null,
      "outputs": []
    },
    {
      "cell_type": "code",
      "metadata": {
        "id": "-FD2Ng4_LiLx"
      },
      "source": [
        ""
      ],
      "execution_count": null,
      "outputs": []
    },
    {
      "cell_type": "code",
      "metadata": {
        "id": "JCYB-AFn_rRl"
      },
      "source": [
        "toTest = \"भए कुमार जबहिं सब भ्राता। दीन्ह जनेऊ गुरु पितु माता॥\"\n",
        "allChar = ['ऽ', 'ँ', 'ं', 'प', 'फ', 'ब', 'भ', 'त', 'थ', 'द', 'ध', 'ट', 'ठ', 'ड', 'ढ', 'क', 'ख', 'ग', 'घ', 'च', 'छ', 'ज', 'झ', 'स', 'श', 'ष', 'ह', 'म', 'न', 'ञ', 'ण', 'ङ', 'व', 'र', 'ल', 'य', 'क़', 'फ़', 'ज़', 'ख़', 'ग़', 'ड़', 'ढ़', '़', '०', '१', '२', '३', '४', '५', '६', '७', '८', '९', '्', 'ः', 'ि', 'ी', 'ु', 'ू', 'े', 'ो', 'ै', 'ौ', 'ा', 'ृ', 'ॅ', 'ॉ', 'इ', 'ई', 'उ', 'ऊ', 'ए', 'अ', 'ओ', 'ऐ', 'औ', 'आ', 'ऋ', 'ऍ', 'ऑ', '।', '॥', '॰', '‘', '’', '“', '”', '!', '(', ')', '.', ':', ';', '?', '₹', '₨', 'ॐ']\n",
        "sortedAllChar = [\n",
        "                 '!', '(', ')', '.', ':', ';', '?', \n",
        "                 'ँ', 'ं', 'ः', \n",
        "                 'अ', 'आ', 'इ', 'ई', 'उ', 'ऊ', 'ऋ', 'ऍ', 'ए', 'ऐ', 'ऑ', 'ओ', 'औ', \n",
        "                 'क', 'ख', 'ग', 'घ', 'ङ', \n",
        "                 'च', 'छ', 'ज', 'झ', 'ञ', \n",
        "                 'ट', 'ठ', 'ड', 'ढ', 'ण', \n",
        "                 'त', 'थ', 'द', 'ध', 'न', \n",
        "                 'प', 'फ', 'ब', 'भ', 'म', \n",
        "                 'य', 'र', 'ल', 'व', 'श', \n",
        "                 'ष', 'स', 'ह', \n",
        "                 '़', \n",
        "                 'ऽ', \n",
        "                 'ा', 'ि', 'ी', 'ु', 'ू', 'ृ', 'ॅ', 'े', 'ै', 'ॉ', 'ो', 'ौ', '्', \n",
        "                 'ॐ', \n",
        "                 'क़', 'ख़', 'ग़', 'ज़', 'ड़', 'ढ़', 'फ़', \n",
        "                 '।', '॥', \n",
        "                 '०', '१', '२', '३', '४', '५', '६', '७', '८', '९', \n",
        "                 '॰', '‘', '’', '“', '”', '₨', '₹']\n",
        "\n",
        "lookUp = {\n",
        "    \"swar\" : ['अ', 'आ', 'इ', 'ई', 'उ', 'ऊ', 'ऋ', 'ऍ', 'ए', 'ऐ', 'ऑ', 'ओ', 'औ', 'ऽ', 'ॐ'],\n",
        "    \"vyanjan\" : [\n",
        "                 'क', 'ख', 'ग', 'घ', 'ङ', \n",
        "                 'च', 'छ', 'ज', 'झ', 'ञ', \n",
        "                 'ट', 'ठ', 'ड', 'ढ', 'ण', \n",
        "                 'त', 'थ', 'द', 'ध', 'न', \n",
        "                 'प', 'फ', 'ब', 'भ', 'म', \n",
        "                 'य', 'र', 'ल', 'व', 'श', \n",
        "                 'ष', 'स', 'ह'\n",
        "    ],\n",
        "    \"maatra\" : ['ँ', 'ं', 'ः', '़', 'ा', 'ि', 'ी', 'ु', 'ू', 'ृ', 'ॅ', 'े', 'ै', 'ॉ', 'ो', 'ौ', '्'],\n",
        "    \"aank\" : ['०', '१', '२', '३', '४', '५', '६', '७', '८', '९'],\n",
        "    \"symbols\" : [\n",
        "                 '!', '(', ')', '.', ':', ';', '?', '।', '॥', '॰', '‘', '’', '“', '”'\n",
        "    ],\n",
        "    \"others\" : ['₨', '₹', 'क़', 'ख़', 'ग़', 'ज़', 'ड़', 'ढ़', 'फ़']\n",
        "\n",
        "}\n",
        "\n",
        "\n",
        "'''\n",
        "#swar ऽ,इ,ई,उ,ऊ,ए,अ,ओ,ऐ,औ,आ,ऋ,ऍ,ऑ,\n",
        "#vyanjan प,फ,ब,भ,त,थ,द,ध,ट,ठ,ड,ढ,क,ख,ग,घ,च,छ,ज,झ,स,श,ष,ह,म,न,ञ,ण,ङ,व,र,ल,य,क़,फ़,ज़,ख़,ग़,ड़,ढ़,\n",
        "#maatra ँ  ं  ़  ्  ः  ि  ी  ु  ू  े  ो  ै  ौ  ा  ृ  ॅ  ॉ  \n",
        "#aank ०,१,२,३,४,५,६,७,८,९,\n",
        "#symbols ।,॥,॰,‘,’,“,”,!,(,),.,:,;,?,₹,₨,ॐ,\n",
        "'''"
      ],
      "execution_count": null,
      "outputs": []
    },
    {
      "cell_type": "code",
      "metadata": {
        "colab": {
          "base_uri": "https://localhost:8080/"
        },
        "id": "r5w-Otg5DavJ",
        "outputId": "fe9c37f6-d302-4024-bcef-ddecbdd0b175"
      },
      "source": [
        "toTest = \"ऽँंपफबभतथदधटठडढकखगघचछजझसशषहमनञणङवरलयक़फ़ज़ख़ग़ड़ढ़़०१२३४५६७८९्ःिीुूेोैौाृॅॉइईउऊएअओऐऔआऋऍऑ।॥॰‘’“”!().:;?₹₨ॐ\"\n",
        "\n",
        "res = []\n",
        "\n",
        "for c in toTest:\n",
        "  res.append(c)\n",
        "\n",
        "print(res)\n",
        "print(res.sort())"
      ],
      "execution_count": null,
      "outputs": [
        {
          "output_type": "stream",
          "text": [
            "['ऽ', 'ँ', 'ं', 'प', 'फ', 'ब', 'भ', 'त', 'थ', 'द', 'ध', 'ट', 'ठ', 'ड', 'ढ', 'क', 'ख', 'ग', 'घ', 'च', 'छ', 'ज', 'झ', 'स', 'श', 'ष', 'ह', 'म', 'न', 'ञ', 'ण', 'ङ', 'व', 'र', 'ल', 'य', 'क़', 'फ़', 'ज़', 'ख़', 'ग़', 'ड़', 'ढ़', '़', '०', '१', '२', '३', '४', '५', '६', '७', '८', '९', '्', 'ः', 'ि', 'ी', 'ु', 'ू', 'े', 'ो', 'ै', 'ौ', 'ा', 'ृ', 'ॅ', 'ॉ', 'इ', 'ई', 'उ', 'ऊ', 'ए', 'अ', 'ओ', 'ऐ', 'औ', 'आ', 'ऋ', 'ऍ', 'ऑ', '।', '॥', '॰', '‘', '’', '“', '”', '!', '(', ')', '.', ':', ';', '?', '₹', '₨', 'ॐ']\n",
            "None\n"
          ],
          "name": "stdout"
        }
      ]
    },
    {
      "cell_type": "code",
      "metadata": {
        "id": "Dkk9bdlkD6c-"
      },
      "source": [
        "res.sort()"
      ],
      "execution_count": null,
      "outputs": []
    },
    {
      "cell_type": "code",
      "metadata": {
        "id": "z3iEq8h0Edbz"
      },
      "source": [
        "res"
      ],
      "execution_count": null,
      "outputs": []
    },
    {
      "cell_type": "code",
      "metadata": {
        "colab": {
          "base_uri": "https://localhost:8080/"
        },
        "id": "U-YvyUXQEe7T",
        "outputId": "f2cb4a01-70e0-42c2-a4b0-9d9dfaa874ae"
      },
      "source": [
        "print(res)"
      ],
      "execution_count": null,
      "outputs": [
        {
          "output_type": "stream",
          "text": [
            "['!', '(', ')', '.', ':', ';', '?', 'ँ', 'ं', 'ः', 'अ', 'आ', 'इ', 'ई', 'उ', 'ऊ', 'ऋ', 'ऍ', 'ए', 'ऐ', 'ऑ', 'ओ', 'औ', 'क', 'ख', 'ग', 'घ', 'ङ', 'च', 'छ', 'ज', 'झ', 'ञ', 'ट', 'ठ', 'ड', 'ढ', 'ण', 'त', 'थ', 'द', 'ध', 'न', 'प', 'फ', 'ब', 'भ', 'म', 'य', 'र', 'ल', 'व', 'श', 'ष', 'स', 'ह', '़', 'ऽ', 'ा', 'ि', 'ी', 'ु', 'ू', 'ृ', 'ॅ', 'े', 'ै', 'ॉ', 'ो', 'ौ', '्', 'ॐ', 'क़', 'ख़', 'ग़', 'ज़', 'ड़', 'ढ़', 'फ़', '।', '॥', '०', '१', '२', '३', '४', '५', '६', '७', '८', '९', '॰', '‘', '’', '“', '”', '₨', '₹']\n"
          ],
          "name": "stdout"
        }
      ]
    },
    {
      "cell_type": "code",
      "metadata": {
        "id": "ndsithGiEoSA"
      },
      "source": [
        "lookUp = {\n",
        "    \"swar\" : ['अ', 'आ', 'इ', 'ई', 'उ', 'ऊ', 'ऋ', 'ऍ', 'ए', 'ऐ', 'ऑ', 'ओ', 'औ', 'ऽ', 'ॐ'],\n",
        "    \"vyanjan\" : [\n",
        "                 'क', 'ख', 'ग', 'घ', 'ङ', \n",
        "                 'च', 'छ', 'ज', 'झ', 'ञ', \n",
        "                 'ट', 'ठ', 'ड', 'ढ', 'ण', \n",
        "                 'त', 'थ', 'द', 'ध', 'न', \n",
        "                 'प', 'फ', 'ब', 'भ', 'म', \n",
        "                 'य', 'र', 'ल', 'व', 'श', \n",
        "                 'ष', 'स', 'ह'\n",
        "    ],\n",
        "    \"maatra\" : ['ँ', 'ं', 'ः', '़', 'ा', 'ि', 'ी', 'ु', 'ू', 'ृ', 'ॅ', 'े', 'ै', 'ॉ', 'ो', 'ौ', '्'],\n",
        "    \"aank\" : ['०', '१', '२', '३', '४', '५', '६', '७', '८', '९'],\n",
        "    \"symbols\" : [\n",
        "                 '!', '(', ')', '.', ':', ';', '?', '।', '॥', '॰', '‘', '’', '“', '”'\n",
        "    ],\n",
        "    \"others\" : ['₨', '₹', 'क़', 'ख़', 'ग़', 'ज़', 'ड़', 'ढ़', 'फ़'],\n",
        "    \"space\" : [\" \", \" \"]\n",
        "}"
      ],
      "execution_count": null,
      "outputs": []
    },
    {
      "cell_type": "code",
      "metadata": {
        "id": "Z4EOgC7LGxuq"
      },
      "source": [
        "\n",
        "toTest = \"वर्ण, लिंग, भाषा, धर्म, राजनीति या अन्य विचार-प्रणाली, किसी देश या समाज विशेष में जन्म, सम्पत्ति या किसी प्रकार की अन्य मर्यादा आदि के कारण भेदभाव का विचार न किया जाएगा । \"\n",
        " \n",
        "for c in toTest:\n",
        "  if c in lookUp[\"swar\"]:\n",
        "    print(c, \" Swar\")\n",
        "  elif c in lookUp[\"vyanjan\"]:\n",
        "    print(c, \" Vyanjan\")\n",
        "  elif c in lookUp[\"maatra\"]:\n",
        "    print(c, \" Maatra\")\n",
        "  elif c in lookUp[\"aank\"]:\n",
        "    print(c, \" Aank\")\n",
        "  elif c in lookUp[\"symbols\"]:\n",
        "    print(c, \" Symbol\")\n",
        "  elif c in lookUp[\"others\"]:\n",
        "    print(c, \" Others\")\n",
        "  elif c in lookUp[\"space\"]:\n",
        "    pass\n",
        "  else :\n",
        "    print(c, \" Shit Not Found\")"
      ],
      "execution_count": null,
      "outputs": []
    },
    {
      "cell_type": "code",
      "metadata": {
        "colab": {
          "base_uri": "https://localhost:8080/"
        },
        "id": "QrYHgWwhHoJw",
        "outputId": "a755db7a-6e58-4759-8266-1c661860a419"
      },
      "source": [
        "# naive Approach\n",
        "\n",
        "lookup = {'!' : '!',\n",
        "'(' : '¼',\n",
        "')' : '½',\n",
        "'.' : '-',\n",
        "':' : '%',\n",
        "';' : '(',\n",
        "'?' : '\\\\',\n",
        "'ँ' : '+¡',\n",
        "'ं' : 'a',\n",
        "'ः' : '%',\n",
        "'अ' : 'v',\n",
        "'आ' : 'vk',\n",
        "'इ' : 'b',\n",
        "'ई' : 'bZ',\n",
        "'उ' : 'm',\n",
        "'ऊ' : 'Å',\n",
        "'ऋ' : '_',\n",
        "'ऍ' : ',W',\n",
        "'ए' : ',',\n",
        "'ऐ' : ',s',\n",
        "'ऑ' : 'vkW',\n",
        "'ओ' : 'vks',\n",
        "'औ' : 'vkS',\n",
        "'क' : 'd',\n",
        "'ख' : '[k',\n",
        "'ग' : 'x',\n",
        "'घ' : '?k',\n",
        "'ङ' : '³',\n",
        "'च' : 'p',\n",
        "'छ' : 'N',\n",
        "'ज' : 't',\n",
        "'झ' : '>',\n",
        "'ञ' : 'Œk',\n",
        "'ट' : 'V',\n",
        "'ठ' : 'B',\n",
        "'ड' : 'M',\n",
        "'ढ' : '<',\n",
        "'ण' : '.k',\n",
        "'त' : 'r',\n",
        "'थ' : 'Fk',\n",
        "'द' : 'n',\n",
        "'ध' : '/k',\n",
        "'न' : 'u',\n",
        "'प' : 'i',\n",
        "'फ' : 'Q',\n",
        "'ब' : 'c',\n",
        "'भ' : 'Hk',\n",
        "'म' : 'e',\n",
        "'य' : ';',\n",
        "'र' : 'j',\n",
        "'ल' : 'y',\n",
        "'व' : 'o',\n",
        "'श' : \"'k\",\n",
        "'ष' : '\"k',\n",
        "'स' : 'l',\n",
        "'ह' : 'g',\n",
        "'़' : '+',\n",
        "'ऽ' : '•',\n",
        "'ा' : 'k',\n",
        "'ि' : 'f',\n",
        "'ी' : 'h',\n",
        "'ु' : 'q',\n",
        "'ू' : 'w',\n",
        "'ृ' : '`',\n",
        "'ॅ' : 'W',\n",
        "'े' : 's',\n",
        "'ै' : 'S',\n",
        "'ॉ' : 'kW',\n",
        "'ो' : 'ks',\n",
        "'ौ' : 'kS',\n",
        "'्' : '~',\n",
        "'ॐ' : '¬',\n",
        "'क़' : 'd+',\n",
        "'ख़' : '[k+',\n",
        "'ग़' : 'x+',\n",
        "'ज़' : 't+',\n",
        "'ड़' : 'M+',\n",
        "'ढ़' : '<+',\n",
        "'फ़' : 'Q+',\n",
        "'।' : 'A',\n",
        "'॥' : 'AA',\n",
        "'०' : '0',\n",
        "'१' : '1',\n",
        "'२' : '2',\n",
        "'३' : '3',\n",
        "'४' : '4',\n",
        "'५' : '5',\n",
        "'६' : '6',\n",
        "'७' : '7',\n",
        "'८' : '8',\n",
        "'९' : '9',\n",
        "'“' : 'Þ',\n",
        "'”' : 'ß',}\n",
        "\n",
        "stack = []\n",
        "\n",
        "toTest = \"प्रथम द्वितीय रात्रि  संपत्ति अतिरिक्त अक्षय\\nधर्म वार्षिक राष्ट्रीय त्स्व कृष्णा क्रिया फ्रीज़ पूर्वी वर्णिक॥\"\n",
        "\n",
        "special = {\n",
        "    'ु': \"#\", \n",
        "    'ू': \":\"\n",
        "}\n",
        "\n",
        "#special cases badiEE done\n",
        "# ru \n",
        "# dwi\n",
        "# halant\n",
        "# ra - ra pe halant to rep /// ra k pehle halant hoga to mra wala danda\n",
        "\n",
        "\n",
        "# clean up karna hai \n",
        "#while loop banake chalana hai\n",
        "\n",
        "\"\"\"lookForNaive = {\n",
        "    \"swar\" : ['अ', 'आ', 'इ', 'ई', 'उ', 'ऊ', 'ऋ', 'ऍ', 'ए', 'ऐ', 'ऑ', 'ओ', 'औ', 'ऽ', 'ॐ'],\n",
        "    \"vyanjan\" : [\n",
        "                 'क', 'ख', 'ग', 'घ', 'ङ', \n",
        "                 'च', 'छ', 'ज', 'झ', 'ञ', \n",
        "                 'ट', 'ठ', 'ड', 'ढ', 'ण', \n",
        "                 'त', 'थ', 'द', 'ध', 'न', \n",
        "                 'प', 'फ', 'ब', 'भ', 'म', \n",
        "                 'य', 'र', 'ल', 'व', 'श', \n",
        "                 'ष', 'स', 'ह'\n",
        "    ],\n",
        "    \"maatra\" : ['ँ', 'ं', 'ः', '़', 'ा', 'ि', 'ी', 'ु', 'ू', 'ृ', 'ॅ', 'े', 'ै', 'ॉ', 'ो', 'ौ', '्'],\n",
        "    \"aank\" : ['०', '१', '२', '३', '४', '५', '६', '७', '८', '९'],\n",
        "    \"symbols\" : [\n",
        "                 '!', '(', ')', '.', ':', ';', '?', '।', '॥', '॰', '‘', '’', '“', '”'\n",
        "    ],\n",
        "    \"others\" : ['₨', '₹', 'क़', 'ख़', 'ग़', 'ज़', 'ड़', 'ढ़', 'फ़'],\n",
        "    \"space\" : [\" \", \" \"]\n",
        "}\"\"\"\n",
        "\n",
        "for word in toTest.split():\n",
        "  stack = []\n",
        "  for i,l in enumerate(word):\n",
        "    try :\n",
        "      if l ==  'ि' :\n",
        "        #baadiEE logic\n",
        "        #print(listTostr(stack))\n",
        "        temp = stack.pop()\n",
        "        #print(listTostr(stack))\n",
        "        stack.append(lookup[l])\n",
        "        #print(listTostr(stack))\n",
        "        stack.append(temp)\n",
        "        #print(listTostr(stack))\n",
        "      elif l in [ 'ु', 'ू'] and word[i-1] == 'र' :\n",
        "        temp = stack.pop()\n",
        "        stack.append(special[l])\n",
        "      elif l == '्' :\n",
        "        # halant logic\n",
        "        stack.append(lookup[l])\n",
        "        pass\n",
        "        #print(\"halant\")\n",
        "      else :\n",
        "        stack.append(lookup[l])\n",
        "    except TypeError :\n",
        "      print(\"Not Found :\", l, i-1, word[i-1])\n",
        "  print(listTostr(stack))\n",
        "  print(listTostrTest(stack))\n",
        " \n"
      ],
      "execution_count": 54,
      "outputs": [
        {
          "output_type": "stream",
          "text": [
            "i~jFke\n",
            "i ~ j Fk e \n",
            "n~forh;\n",
            "n ~ f o r h ; \n",
            "jkr~fj\n",
            "j k r ~ f j \n",
            "lair~fr\n",
            "l a i r ~ f r \n",
            "vfrfjd~r\n",
            "v f r f j d ~ r \n",
            "vd~\"k;\n",
            "v d ~ \"k ; \n",
            "/kj~e\n",
            "/k j ~ e \n",
            "okj~f\"kd\n",
            "o k j ~ f \"k d \n",
            "jk\"k~V~jh;\n",
            "j k \"k ~ V ~ j h ; \n",
            "r~l~o\n",
            "r ~ l ~ o \n",
            "d`\"k~.kk\n",
            "d ` \"k ~ .k k \n",
            "d~fj;k\n",
            "d ~ f j ; k \n",
            "Q~jht+\n",
            "Q ~ j h t+ \n",
            "iwj~oh\n",
            "i w j ~ o h \n",
            "oj~f.kdAA\n",
            "o j ~ f .k d AA \n"
          ],
          "name": "stdout"
        }
      ]
    },
    {
      "cell_type": "code",
      "metadata": {
        "id": "Q2PE3FbFLqp9"
      },
      "source": [
        "def listTostr(word):\n",
        "  res = \"\"\n",
        "  for l in word :\n",
        "    res += l\n",
        "  return res\n",
        "\n",
        "def listTostrTest(word):\n",
        "  res = \"\"\n",
        "  for l in word :\n",
        "    res += l + \" \"\n",
        "  return res"
      ],
      "execution_count": 51,
      "outputs": []
    },
    {
      "cell_type": "code",
      "metadata": {
        "colab": {
          "base_uri": "https://localhost:8080/"
        },
        "id": "JUjYzfG-LJfq",
        "outputId": "a0f32a58-dda2-4842-9353-aac1513323c2"
      },
      "source": [
        "res = ['!', '(', ')', '.', ':', ';', '?', 'ँ', 'ं', 'ः', 'अ', 'आ', 'इ', 'ई', 'उ', 'ऊ', 'ऋ', 'ऍ', 'ए', 'ऐ', 'ऑ', 'ओ', 'औ', 'क', 'ख', 'ग', 'घ', 'ङ', 'च', 'छ', 'ज', 'झ', 'ञ', 'ट', 'ठ', 'ड', 'ढ', 'ण', 'त', 'थ', 'द', 'ध', 'न', 'प', 'फ', 'ब', 'भ', 'म', 'य', 'र', 'ल', 'व', 'श', 'ष', 'स', 'ह', '़', 'ऽ', 'ा', 'ि', 'ी', 'ु', 'ू', 'ृ', 'ॅ', 'े', 'ै', 'ॉ', 'ो', 'ौ', '्', 'ॐ', 'क़', 'ख़', 'ग़', 'ज़', 'ड़', 'ढ़', 'फ़', '।', '॥', '०', '१', '२', '३', '४', '५', '६', '७', '८', '९', '॰', '‘', '’', '“', '”', '₨', '₹']\n",
        "for a in res:\n",
        "  print(\"'\"+  str(a) + \"' : '',\")"
      ],
      "execution_count": null,
      "outputs": [
        {
          "output_type": "stream",
          "text": [
            "'!' : '',\n",
            "'(' : '',\n",
            "')' : '',\n",
            "'.' : '',\n",
            "':' : '',\n",
            "';' : '',\n",
            "'?' : '',\n",
            "'ँ' : '',\n",
            "'ं' : '',\n",
            "'ः' : '',\n",
            "'अ' : '',\n",
            "'आ' : '',\n",
            "'इ' : '',\n",
            "'ई' : '',\n",
            "'उ' : '',\n",
            "'ऊ' : '',\n",
            "'ऋ' : '',\n",
            "'ऍ' : '',\n",
            "'ए' : '',\n",
            "'ऐ' : '',\n",
            "'ऑ' : '',\n",
            "'ओ' : '',\n",
            "'औ' : '',\n",
            "'क' : '',\n",
            "'ख' : '',\n",
            "'ग' : '',\n",
            "'घ' : '',\n",
            "'ङ' : '',\n",
            "'च' : '',\n",
            "'छ' : '',\n",
            "'ज' : '',\n",
            "'झ' : '',\n",
            "'ञ' : '',\n",
            "'ट' : '',\n",
            "'ठ' : '',\n",
            "'ड' : '',\n",
            "'ढ' : '',\n",
            "'ण' : '',\n",
            "'त' : '',\n",
            "'थ' : '',\n",
            "'द' : '',\n",
            "'ध' : '',\n",
            "'न' : '',\n",
            "'प' : '',\n",
            "'फ' : '',\n",
            "'ब' : '',\n",
            "'भ' : '',\n",
            "'म' : '',\n",
            "'य' : '',\n",
            "'र' : '',\n",
            "'ल' : '',\n",
            "'व' : '',\n",
            "'श' : '',\n",
            "'ष' : '',\n",
            "'स' : '',\n",
            "'ह' : '',\n",
            "'़' : '',\n",
            "'ऽ' : '',\n",
            "'ा' : '',\n",
            "'ि' : '',\n",
            "'ी' : '',\n",
            "'ु' : '',\n",
            "'ू' : '',\n",
            "'ृ' : '',\n",
            "'ॅ' : '',\n",
            "'े' : '',\n",
            "'ै' : '',\n",
            "'ॉ' : '',\n",
            "'ो' : '',\n",
            "'ौ' : '',\n",
            "'्' : '',\n",
            "'ॐ' : '',\n",
            "'क़' : '',\n",
            "'ख़' : '',\n",
            "'ग़' : '',\n",
            "'ज़' : '',\n",
            "'ड़' : '',\n",
            "'ढ़' : '',\n",
            "'फ़' : '',\n",
            "'।' : '',\n",
            "'॥' : '',\n",
            "'०' : '',\n",
            "'१' : '',\n",
            "'२' : '',\n",
            "'३' : '',\n",
            "'४' : '',\n",
            "'५' : '',\n",
            "'६' : '',\n",
            "'७' : '',\n",
            "'८' : '',\n",
            "'९' : '',\n",
            "'॰' : '',\n",
            "'‘' : '',\n",
            "'’' : '',\n",
            "'“' : '',\n",
            "'”' : '',\n",
            "'₨' : '',\n",
            "'₹' : '',\n"
          ],
          "name": "stdout"
        }
      ]
    },
    {
      "cell_type": "code",
      "metadata": {
        "id": "sTD0t9EzMrK2"
      },
      "source": [
        ""
      ],
      "execution_count": 34,
      "outputs": []
    },
    {
      "cell_type": "code",
      "metadata": {
        "colab": {
          "base_uri": "https://localhost:8080/",
          "height": 35
        },
        "id": "Mx0yHLV7NWc8",
        "outputId": "5bbc0084-37c6-4993-b084-fb381acb0f81"
      },
      "source": [
        "lookup['म']"
      ],
      "execution_count": null,
      "outputs": [
        {
          "output_type": "execute_result",
          "data": {
            "application/vnd.google.colaboratory.intrinsic+json": {
              "type": "string"
            },
            "text/plain": [
              "'e'"
            ]
          },
          "metadata": {
            "tags": []
          },
          "execution_count": 25
        }
      ]
    },
    {
      "cell_type": "code",
      "metadata": {
        "id": "koR2etxONX6r",
        "colab": {
          "base_uri": "https://localhost:8080/"
        },
        "outputId": "52a57818-5c98-49a5-b60f-e101d0b25895"
      },
      "source": [
        "toTest = \"प्रथम द्वितीय रात्रि संपत्ति अतिरिक्त अक्षय\\nधर्म वार्षिक राष्ट्रीय त्स्व कृष्णा क्रिया फ्रीज़ पूर्वी वर्णिक\"\n",
        "\n",
        "for word in toTest.split():\n",
        "  print(word)\n",
        "  #if \"्\" in word:\n",
        "  #  continue\n",
        "  for l in word:\n",
        "    print(l)"
      ],
      "execution_count": 42,
      "outputs": [
        {
          "output_type": "stream",
          "text": [
            "प्रथम\n",
            "प\n",
            "्\n",
            "र\n",
            "थ\n",
            "म\n",
            "द्वितीय\n",
            "द\n",
            "्\n",
            "व\n",
            "ि\n",
            "त\n",
            "ी\n",
            "य\n",
            "रात्रि\n",
            "र\n",
            "ा\n",
            "त\n",
            "्\n",
            "र\n",
            "ि\n",
            "संपत्ति\n",
            "स\n",
            "ं\n",
            "प\n",
            "त\n",
            "्\n",
            "त\n",
            "ि\n",
            "अतिरिक्त\n",
            "अ\n",
            "त\n",
            "ि\n",
            "र\n",
            "ि\n",
            "क\n",
            "्\n",
            "त\n",
            "अक्षय\n",
            "अ\n",
            "क\n",
            "्\n",
            "ष\n",
            "य\n",
            "धर्म\n",
            "ध\n",
            "र\n",
            "्\n",
            "म\n",
            "वार्षिक\n",
            "व\n",
            "ा\n",
            "र\n",
            "्\n",
            "ष\n",
            "ि\n",
            "क\n",
            "राष्ट्रीय\n",
            "र\n",
            "ा\n",
            "ष\n",
            "्\n",
            "ट\n",
            "्\n",
            "र\n",
            "ी\n",
            "य\n",
            "त्स्व\n",
            "त\n",
            "्\n",
            "स\n",
            "्\n",
            "व\n",
            "कृष्णा\n",
            "क\n",
            "ृ\n",
            "ष\n",
            "्\n",
            "ण\n",
            "ा\n",
            "क्रिया\n",
            "क\n",
            "्\n",
            "र\n",
            "ि\n",
            "य\n",
            "ा\n",
            "फ्रीज़\n",
            "फ\n",
            "्\n",
            "र\n",
            "ी\n",
            "ज़\n",
            "पूर्वी\n",
            "प\n",
            "ू\n",
            "र\n",
            "्\n",
            "व\n",
            "ी\n",
            "वर्णिक\n",
            "व\n",
            "र\n",
            "्\n",
            "ण\n",
            "ि\n",
            "क\n"
          ],
          "name": "stdout"
        }
      ]
    },
    {
      "cell_type": "code",
      "metadata": {
        "colab": {
          "base_uri": "https://localhost:8080/"
        },
        "id": "A27nNCJGhGSH",
        "outputId": "33990f0b-faf3-40f5-def4-8c5d766674f1"
      },
      "source": [
        "tll = ['a','b','c','d']\n",
        "\n",
        "for i,l in enumerate(tll):\n",
        "  print(i,l)\n",
        "  if i == 1:\n",
        "    i +=1\n",
        "  \n",
        "\n",
        "i =0\n",
        "while i  < (len(tll)):\n",
        "  if i == 1:\n",
        "    i += 1\n",
        "  l = tll[i]\n",
        "  print(i,l)\n",
        "  i += 1"
      ],
      "execution_count": 64,
      "outputs": [
        {
          "output_type": "stream",
          "text": [
            "0 a\n",
            "1 b\n",
            "2 c\n",
            "3 d\n",
            "0 a\n",
            "2 c\n",
            "3 d\n"
          ],
          "name": "stdout"
        }
      ]
    },
    {
      "cell_type": "code",
      "metadata": {
        "id": "CAA0QIJ1nX15"
      },
      "source": [
        ""
      ],
      "execution_count": 59,
      "outputs": []
    }
  ]
}